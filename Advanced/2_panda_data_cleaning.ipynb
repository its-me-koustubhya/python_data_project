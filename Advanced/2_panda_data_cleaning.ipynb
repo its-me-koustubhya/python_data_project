{
 "cells": [
  {
   "cell_type": "code",
   "execution_count": 2,
   "id": "c78489b4",
   "metadata": {},
   "outputs": [],
   "source": [
    "import pandas as pd\n",
    "import matplotlib.pyplot as plt"
   ]
  },
  {
   "cell_type": "code",
   "execution_count": 3,
   "id": "10e230ea",
   "metadata": {},
   "outputs": [
    {
     "name": "stdout",
     "output_type": "stream",
     "text": [
      "<class 'pandas.core.frame.DataFrame'>\n",
      "RangeIndex: 785741 entries, 0 to 785740\n",
      "Data columns (total 17 columns):\n",
      " #   Column                 Non-Null Count   Dtype         \n",
      "---  ------                 --------------   -----         \n",
      " 0   job_title_short        785741 non-null  object        \n",
      " 1   job_title              785740 non-null  object        \n",
      " 2   job_location           784696 non-null  object        \n",
      " 3   job_via                785733 non-null  object        \n",
      " 4   job_schedule_type      773074 non-null  object        \n",
      " 5   job_work_from_home     785741 non-null  bool          \n",
      " 6   search_location        785741 non-null  object        \n",
      " 7   job_posted_date        785741 non-null  datetime64[ns]\n",
      " 8   job_no_degree_mention  785741 non-null  bool          \n",
      " 9   job_health_insurance   785741 non-null  bool          \n",
      " 10  job_country            785692 non-null  object        \n",
      " 11  salary_rate            33067 non-null   object        \n",
      " 12  salary_year_avg        22003 non-null   float64       \n",
      " 13  salary_hour_avg        10662 non-null   float64       \n",
      " 14  company_name           785723 non-null  object        \n",
      " 15  job_skills             668704 non-null  object        \n",
      " 16  job_type_skills        668704 non-null  object        \n",
      "dtypes: bool(3), datetime64[ns](1), float64(2), object(11)\n",
      "memory usage: 86.2+ MB\n"
     ]
    }
   ],
   "source": [
    "df = pd.read_csv(r'C:\\Users\\singh\\Documents\\DATA ANALYTICS BOOTCAMP\\data_jobs.csv')\n",
    "\n",
    "# converting the job_posted_date object to datetime\n",
    "df['job_posted_date'] = pd.to_datetime(df.job_posted_date)\n",
    "df.info()"
   ]
  },
  {
   "cell_type": "code",
   "execution_count": 4,
   "id": "ef3b51a2",
   "metadata": {},
   "outputs": [],
   "source": [
    "# there are a lot of null values and we are going to replace them\n",
    "df.salary_year_avg\n",
    "# calc the median value for this col\n",
    "median_salary_year_avg = df['salary_year_avg'].median()\n",
    "median_salary_hour_avg = df['salary_hour_avg'].median()"
   ]
  },
  {
   "cell_type": "code",
   "execution_count": 5,
   "id": "92ea5ebf",
   "metadata": {},
   "outputs": [],
   "source": [
    "# using the fillna method\n",
    "df['salary_hour_avg'] = df['salary_hour_avg'].fillna(median_salary_hour_avg)\n",
    "df['salary_year_avg'] = df['salary_year_avg'].fillna(median_salary_year_avg)"
   ]
  },
  {
   "cell_type": "code",
   "execution_count": 6,
   "id": "98a59e1a",
   "metadata": {},
   "outputs": [
    {
     "data": {
      "text/plain": [
       "0         115000.0\n",
       "1         115000.0\n",
       "2         115000.0\n",
       "3         115000.0\n",
       "4         115000.0\n",
       "            ...   \n",
       "785736    115000.0\n",
       "785737    115000.0\n",
       "785738    115000.0\n",
       "785739    115000.0\n",
       "785740    115000.0\n",
       "Name: salary_year_avg, Length: 785741, dtype: float64"
      ]
     },
     "execution_count": 6,
     "metadata": {},
     "output_type": "execute_result"
    }
   ],
   "source": [
    "df['salary_year_avg']"
   ]
  },
  {
   "cell_type": "code",
   "execution_count": 7,
   "id": "0a097b01",
   "metadata": {},
   "outputs": [
    {
     "name": "stdout",
     "output_type": "stream",
     "text": [
      "Original length of the dataset:  785741\n",
      "Length of the dataset after dropping the duplicates:  785640\n",
      "rows dropped:  101\n"
     ]
    }
   ],
   "source": [
    "# Dropping duplicates\n",
    "\n",
    "df_unique = df\n",
    "df_unique = df_unique.drop_duplicates()\n",
    "\n",
    "print('Original length of the dataset: ', len(df))\n",
    "print('Length of the dataset after dropping the duplicates: ', len(df_unique))\n",
    "print('rows dropped: ', len(df)-len(df_unique))\n"
   ]
  },
  {
   "cell_type": "code",
   "execution_count": 8,
   "id": "f41130c8",
   "metadata": {},
   "outputs": [
    {
     "name": "stdout",
     "output_type": "stream",
     "text": [
      "Original length of the dataset:  785741\n",
      "Length of the dataset after dropping the duplicates:  508042\n",
      "rows dropped:  277699\n"
     ]
    }
   ],
   "source": [
    "# now also using the subset\n",
    "df_unique = df_unique.drop_duplicates(subset = ['job_title', 'company_name'])\n",
    "\n",
    "print('Original length of the dataset: ', len(df))\n",
    "print('Length of the dataset after dropping the duplicates: ', len(df_unique))\n",
    "print('rows dropped: ', len(df)-len(df_unique))"
   ]
  },
  {
   "cell_type": "code",
   "execution_count": null,
   "id": "43fbe75d",
   "metadata": {},
   "outputs": [],
   "source": []
  }
 ],
 "metadata": {
  "kernelspec": {
   "display_name": "python_project",
   "language": "python",
   "name": "python3"
  },
  "language_info": {
   "codemirror_mode": {
    "name": "ipython",
    "version": 3
   },
   "file_extension": ".py",
   "mimetype": "text/x-python",
   "name": "python",
   "nbconvert_exporter": "python",
   "pygments_lexer": "ipython3",
   "version": "3.12.11"
  }
 },
 "nbformat": 4,
 "nbformat_minor": 5
}
