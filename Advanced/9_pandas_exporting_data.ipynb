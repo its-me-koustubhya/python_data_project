{
 "cells": [
  {
   "cell_type": "code",
   "execution_count": 1,
   "id": "740ebaa0",
   "metadata": {},
   "outputs": [],
   "source": [
    "import pandas as pd\n",
    "import matplotlib.pyplot as plt\n",
    "\n",
    "df = pd.read_csv(r'C:\\Users\\singh\\Documents\\DATA ANALYTICS BOOTCAMP\\data_jobs.csv')\n",
    "\n",
    "# converting the job_posted_date object to datetime\n",
    "df['job_posted_date'] = pd.to_datetime(df.job_posted_date)"
   ]
  },
  {
   "cell_type": "code",
   "execution_count": 2,
   "id": "55260bce",
   "metadata": {},
   "outputs": [],
   "source": [
    "df['job_posted_month'] = df['job_posted_date'].dt.strftime('%b')\n",
    "months = df['job_posted_month'].unique()\n",
    "dict_month = {month: df[df['job_posted_month'] == month]  for month in months}\n",
    "df_concat = pd.concat([dict_month['Jan'], dict_month['Feb'], dict_month['Mar']], ignore_index=True)"
   ]
  },
  {
   "cell_type": "code",
   "execution_count": 4,
   "id": "a30b909f",
   "metadata": {},
   "outputs": [],
   "source": [
    "df_concat.head().to_clipboard(sep=',')"
   ]
  },
  {
   "cell_type": "markdown",
   "id": "881fc9e3",
   "metadata": {},
   "source": [
    ",job_title_short,job_title,job_location,job_via,job_schedule_type,job_work_from_home,search_location,job_posted_date,job_no_degree_mention,job_health_insurance,job_country,salary_rate,salary_year_avg,salary_hour_avg,company_name,job_skills,job_type_skills,job_posted_month\n",
    "0,Data Analyst,Data Analyst,\"Guadalajara, Jalisco, Mexico\",via BeBee México,Full-time,False,Mexico,2023-01-14 13:18:07,False,False,Mexico,,,,Hewlett Packard Enterprise,\"['r', 'python', 'sql', 'nosql', 'power bi', 'tableau']\",\"{'analyst_tools': ['power bi', 'tableau'], 'programming': ['r', 'python', 'sql', 'nosql']}\",Jan\n",
    "1,Data Scientist,Data Scientist,\"Zaventem, Belgium\",via BeBee Belgique,Full-time,False,Belgium,2023-01-31 13:53:38,False,False,Belgium,,,,Devoteam,\"['r', 'python', 'sql', 'pandas', 'numpy', 'scikit-learn', 'matplotlib', 'hadoop', 'spark']\",\"{'libraries': ['pandas', 'numpy', 'scikit-learn', 'matplotlib', 'hadoop', 'spark'], 'programming': ['r', 'python', 'sql']}\",Jan\n",
    "2,Data Engineer,Data Engineer,\"Fort Worth, TX\",via LinkedIn,Full-time,False,\"Texas, United States\",2023-01-25 13:24:01,False,False,United States,,,,Programmers.io,\"['sql', 'python']\",\"{'programming': ['sql', 'python']}\",Jan\n",
    "3,Data Engineer,Data Engineer,\"San Mateo, CA\",via LinkedIn,Full-time,False,\"California, United States\",2023-01-28 13:07:30,False,True,United States,,,,Verkada,\"['sql', 'python', 'aws', 'looker']\",\"{'analyst_tools': ['looker'], 'cloud': ['aws'], 'programming': ['sql', 'python']}\",Jan\n",
    "4,Data Scientist,Data Scientist,\"São Paulo, State of São Paulo, Brazil\",via BeBee,Full-time,False,Brazil,2023-01-03 23:02:27,False,False,Brazil,,,,Mars,\"['python', 'sql', 'azure']\",\"{'cloud': ['azure'], 'programming': ['python', 'sql']}\",Jan\n"
   ]
  },
  {
   "cell_type": "code",
   "execution_count": 5,
   "id": "4e46b957",
   "metadata": {},
   "outputs": [],
   "source": [
    "df_concat.to_csv('quater_1.csv')"
   ]
  },
  {
   "cell_type": "code",
   "execution_count": 8,
   "id": "e540f830",
   "metadata": {},
   "outputs": [],
   "source": [
    "df_concat.to_excel('quater_1.xlsx')"
   ]
  },
  {
   "cell_type": "markdown",
   "id": "4b5603ec",
   "metadata": {},
   "source": [
    "**to_sql()**"
   ]
  },
  {
   "cell_type": "code",
   "execution_count": null,
   "id": "9cf37ffe",
   "metadata": {},
   "outputs": [],
   "source": [
    "from sqlalchemy import create_engine\n",
    "engine = create_engine('sqlite:///jobs.db')\n",
    "\n",
    "df.to_sql('job_table', con = 'engine', if_exists='append', index=False)"
   ]
  },
  {
   "cell_type": "markdown",
   "id": "1b981b03",
   "metadata": {},
   "source": [
    "**to_parquet() very efficient and used for large files**"
   ]
  },
  {
   "cell_type": "code",
   "execution_count": null,
   "id": "378f5a0c",
   "metadata": {},
   "outputs": [],
   "source": [
    "df_concat.to_parquet('quater_1.parquet')"
   ]
  },
  {
   "cell_type": "markdown",
   "id": "0e0b82b9",
   "metadata": {},
   "source": [
    "**to_pickle()**"
   ]
  },
  {
   "cell_type": "code",
   "execution_count": null,
   "id": "499bb63c",
   "metadata": {},
   "outputs": [],
   "source": [
    "df_concat.to_pickle('quater_1.pkl')"
   ]
  }
 ],
 "metadata": {
  "kernelspec": {
   "display_name": "python_project",
   "language": "python",
   "name": "python3"
  },
  "language_info": {
   "codemirror_mode": {
    "name": "ipython",
    "version": 3
   },
   "file_extension": ".py",
   "mimetype": "text/x-python",
   "name": "python",
   "nbconvert_exporter": "python",
   "pygments_lexer": "ipython3",
   "version": "3.12.11"
  }
 },
 "nbformat": 4,
 "nbformat_minor": 5
}
